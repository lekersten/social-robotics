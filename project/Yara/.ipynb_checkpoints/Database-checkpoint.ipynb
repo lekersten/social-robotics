{
 "cells": [
  {
   "cell_type": "code",
   "execution_count": null,
   "id": "bc4d9e64",
   "metadata": {},
   "outputs": [],
   "source": []
  },
  {
   "cell_type": "markdown",
   "id": "34d87e76",
   "metadata": {},
   "source": [
    "## SQLite Python: Creating a New Database"
   ]
  },
  {
   "cell_type": "code",
   "execution_count": 1,
   "id": "47e6f073",
   "metadata": {},
   "outputs": [
    {
     "name": "stdout",
     "output_type": "stream",
     "text": [
      "2.6.0\n"
     ]
    }
   ],
   "source": [
    "import sqlite3\n",
    "from sqlite3 import Error\n",
    "\n",
    "\n",
    "def create_connection(db_file):\n",
    "    \"\"\" create a database connection to a SQLite database \"\"\"\n",
    "    conn = None\n",
    "    try:\n",
    "        conn = sqlite3.connect(db_file)\n",
    "        print(sqlite3.version)\n",
    "    except Error as e:\n",
    "        print(e)\n",
    "    finally:\n",
    "        if conn:\n",
    "            conn.close()\n",
    "\n",
    "\n",
    "create_connection(r\"db\\pythonsqlite.db\")"
   ]
  },
  {
   "cell_type": "markdown",
   "id": "25de34b1",
   "metadata": {},
   "source": [
    "## SQLite Python: Creating Tables"
   ]
  },
  {
   "cell_type": "code",
   "execution_count": 4,
   "id": "1f37bf87",
   "metadata": {},
   "outputs": [],
   "source": [
    "def create_connection(db_file):\n",
    "    \"\"\" create a database connection to the SQLite database\n",
    "        specified by db_file\n",
    "    :param db_file: database file\n",
    "    :return: Connection object or None\n",
    "    \"\"\"\n",
    "    conn = None\n",
    "    try:\n",
    "        conn = sqlite3.connect(db_file)\n",
    "    except Error as e:\n",
    "        print(e)\n",
    "\n",
    "    return conn"
   ]
  },
  {
   "cell_type": "code",
   "execution_count": 5,
   "id": "f93bb0d4",
   "metadata": {},
   "outputs": [],
   "source": [
    "def create_table(conn, create_table_sql):\n",
    "    \"\"\" create a table from the create_table_sql statement\n",
    "    :param conn: Connection object\n",
    "    :param create_table_sql: a CREATE TABLE statement\n",
    "    :return:\n",
    "    \"\"\"\n",
    "    try:\n",
    "        c = conn.cursor()\n",
    "        c.execute(create_table_sql)\n",
    "    except Error as e:\n",
    "        print(e)"
   ]
  },
  {
   "cell_type": "code",
   "execution_count": 11,
   "id": "4393e824",
   "metadata": {},
   "outputs": [],
   "source": [
    "database = r\"db\\pythonsqlite.db\"\n",
    "\n",
    "sql_create_lists_table = \"\"\" CREATE TABLE IF NOT EXISTS lists (\n",
    "                                    id integer PRIMARY KEY,\n",
    "                                    name text NOT NULL,\n",
    "                                    keywords text NOT NULL,\n",
    "                                    begin_date text,\n",
    "                                    end_date text\n",
    "                                ); \"\"\"\n",
    "\n",
    "sql_create_steps_table = \"\"\"CREATE TABLE IF NOT EXISTS steps (\n",
    "                                id integer PRIMARY KEY,\n",
    "                                name text NOT NULL,\n",
    "                                keywords text NOT NULL,\n",
    "                                priority integer,\n",
    "                                status_id integer NOT NULL,\n",
    "                                list_id integer NOT NULL,\n",
    "                                begin_date text NOT NULL,\n",
    "                                end_date text NOT NULL,\n",
    "                                FOREIGN KEY (list_id) REFERENCES lists (id)\n",
    "                            );\"\"\"\n",
    "\n",
    "# create a database connection   \n",
    "conn = create_connection(database)\n",
    "\n",
    "# create tables\n",
    "if conn is not None:\n",
    "    # create projects table\n",
    "    create_table(conn, sql_create_lists_table)\n",
    "\n",
    "    # create tasks table\n",
    "    create_table(conn, sql_create_steps_table)\n",
    "else:\n",
    "    print(\"Error! cannot create the database connection.\")\n"
   ]
  },
  {
   "cell_type": "markdown",
   "id": "a19f9f8c",
   "metadata": {},
   "source": [
    "## SQLite Python: Inserting Data"
   ]
  },
  {
   "cell_type": "code",
   "execution_count": 12,
   "id": "78c45edb",
   "metadata": {},
   "outputs": [],
   "source": [
    "def create_list(conn, lists):\n",
    "    \"\"\"\n",
    "    Create a new list into the lists table\n",
    "    :param conn:\n",
    "    :param lists:\n",
    "    :return: list id\n",
    "    \"\"\"\n",
    "    sql = ''' INSERT INTO lists(name,keywords,begin_date,end_date)\n",
    "              VALUES(?,?,?,?) '''\n",
    "    cur = conn.cursor()\n",
    "    cur.execute(sql, lists)\n",
    "    conn.commit()\n",
    "    return cur.lastrowid"
   ]
  },
  {
   "cell_type": "code",
   "execution_count": 13,
   "id": "7dc54ce5",
   "metadata": {},
   "outputs": [],
   "source": [
    "def create_step(conn, step):\n",
    "    \"\"\"\n",
    "    Create a new step\n",
    "    :param conn:\n",
    "    :param step:\n",
    "    :return:\n",
    "    \"\"\"\n",
    "\n",
    "    sql = ''' INSERT INTO steps(name,keywords,priority,status_id,list_id,begin_date,end_date)\n",
    "              VALUES(?,?,?,?,?,?,?) '''\n",
    "    cur = conn.cursor()\n",
    "    cur.execute(sql, step)\n",
    "    conn.commit()\n",
    "\n",
    "    return cur.lastrowid"
   ]
  },
  {
   "cell_type": "code",
   "execution_count": 17,
   "id": "8013ad33",
   "metadata": {},
   "outputs": [],
   "source": [
    "# database = r\"db\\pythonsqlite.db\"\n",
    "\n",
    "# # create a database connection\n",
    "# conn = create_connection(database)\n",
    "\n",
    "with conn:\n",
    "    # create a new project\n",
    "    lists = ('Vacation to Turkey', 'vacation,turkey,holiday,', '2024-03-19', '2024-03-29');\n",
    "    list_id = create_list(conn, lists)\n",
    "\n",
    "    # tasks\n",
    "    step_1 = ('Pack your bags','bag,bags,luggage,suitcase,packing,pack', 1, 0, list_id, '2024-03-25', '2024-03-28')\n",
    "    step_2 = ('Prepare by printing your travel info','prepare,preparations', 2, 1, list_id, '2024-03-20', '2024-03-28')\n",
    "    step_3 = ('You will leave on the 29th of March','leave,march,date', 0, 3, list_id, '2024-03-19','2024-03-29')\n",
    "\n",
    "    # create tasks\n",
    "    create_step(conn, step_1)\n",
    "    create_step(conn, step_2)\n",
    "    create_step(conn, step_3)"
   ]
  },
  {
   "cell_type": "code",
   "execution_count": null,
   "id": "20f51abe",
   "metadata": {},
   "outputs": [],
   "source": []
  }
 ],
 "metadata": {
  "kernelspec": {
   "display_name": "Python 3 (ipykernel)",
   "language": "python",
   "name": "python3"
  },
  "language_info": {
   "codemirror_mode": {
    "name": "ipython",
    "version": 3
   },
   "file_extension": ".py",
   "mimetype": "text/x-python",
   "name": "python",
   "nbconvert_exporter": "python",
   "pygments_lexer": "ipython3",
   "version": "3.11.4"
  }
 },
 "nbformat": 4,
 "nbformat_minor": 5
}
